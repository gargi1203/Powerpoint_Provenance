{
 "cells": [
  {
   "cell_type": "code",
   "execution_count": 1,
   "id": "d3dc708f",
   "metadata": {},
   "outputs": [],
   "source": [
    "import random\n",
    "from pathlib import Path\n",
    "from string import ascii_letters\n",
    "\n",
    "import aspose.pydrawing as drawing\n",
    "import aspose.slides as slides\n",
    "from pptx import Presentation"
   ]
  },
  {
   "cell_type": "code",
   "execution_count": 2,
   "id": "8e08aa0d",
   "metadata": {},
   "outputs": [],
   "source": [
    "# Number of new PowerPoint files to be created\n",
    "number = 5\n",
    "# Source directory where the PowerPoint files are located\n",
    "source_dir = Path(\"C:/Users/ASUS/Documents/M. Data science/thesis/data_0\")\n",
    "# Output directory where the new PowerPoint files will be saved\n",
    "output_dir = Path(\"C:/Users/ASUS/Documents/M. Data science/thesis/output\")\n",
    "# Number of images to include in each new PowerPoint file\n",
    "images_per_powerpoint = 3\n",
    "# Whether to search for PowerPoint files recursively in the source directory\n",
    "recursive = True\n",
    "\n",
    "source_dir = Path(source_dir)\n",
    "output_dir = Path(output_dir)\n",
    "# Create the output directory if it doesn't exist\n",
    "output_dir.mkdir(exist_ok=True)"
   ]
  },
  {
   "cell_type": "code",
   "execution_count": 3,
   "id": "67f84913",
   "metadata": {},
   "outputs": [],
   "source": [
    "# Create a temporary folder to store the extracted images\n",
    "temp_folder = Path(\"temp\")\n",
    "temp_folder.mkdir(exist_ok=True)\n"
   ]
  },
  {
   "cell_type": "code",
   "execution_count": 4,
   "id": "b6702280",
   "metadata": {},
   "outputs": [],
   "source": [
    "# Function to get the image format\n",
    "def get_image_format(image_type):\n",
    "    # Map the image type string to the ImageFormat enumeration\n",
    "    return {\n",
    "        \"jpeg\": drawing.imaging.ImageFormat.jpeg,\n",
    "        \"emf\": drawing.imaging.ImageFormat.emf,\n",
    "        \"bmp\": drawing.imaging.ImageFormat.bmp,\n",
    "        \"png\": drawing.imaging.ImageFormat.png,\n",
    "        \"wmf\": drawing.imaging.ImageFormat.wmf,\n",
    "        \"gif\": drawing.imaging.ImageFormat.gif,\n",
    "    }.get(image_type, drawing.imaging.ImageFormat.jpeg)\n"
   ]
  },
  {
   "cell_type": "code",
   "execution_count": 5,
   "id": "64ff8c81",
   "metadata": {},
   "outputs": [],
   "source": [
    "\n",
    "# Function to extract images from the PowerPoint file\n",
    "def extract_images(file: Path):\n",
    "    image_paths = []\n",
    "    # List to store the path of the extracted images\n",
    "    with slides.Presentation(str(file.absolute())) as presentation:\n",
    "        # Loop through all the slides in the presentation\n",
    "        for slide in presentation.slides:\n",
    "            # Loop through all the shapes in the slide\n",
    "            for shape_index, shape in enumerate(slide.shapes):\n",
    "                shape_image = None\n",
    "\n",
    "                # Check if the shape is a picture frame\n",
    "                if type(shape) is slides.PictureFrame:\n",
    "                    shape_image = shape.picture_format.picture.image\n",
    "                # If the shape is an image, extract it\n",
    "                if shape_image is not None:\n",
    "                    # Get the content type of the image\n",
    "                    image_type = shape_image.content_type.split(\"/\")[1]\n",
    "                    # Get the image format\n",
    "                    image_format = get_image_format(image_type)\n",
    "                    # Generate a random file name for the image\n",
    "                    image_filename = \"\".join(random.choices(ascii_letters, k=10))\n",
    "                    # Create the path for the image file\n",
    "                    image_path = (\n",
    "                            temp_folder / f\"{image_filename}.{str(image_type).lower()}\"\n",
    "                    )\n",
    "                    # Add the image path to the list\n",
    "                    image_paths.append(image_path)\n",
    "                    # Save the image to the file system\n",
    "                    shape_image.system_image.save(\n",
    "                        str(image_path.absolute()), image_format\n",
    "                    )\n",
    "\n",
    "        # Return the list of image paths\n",
    "        return image_paths"
   ]
  },
  {
   "cell_type": "code",
   "execution_count": 6,
   "id": "6c5e6863",
   "metadata": {},
   "outputs": [],
   "source": [
    "# Get the list of PowerPoint files in the source directory\n",
    "glob_regex = \"**/*\" if recursive else \"*\"\n",
    "filenames = [f for f in source_dir.glob(glob_regex) if f.suffix in [\".pptx\"]]\n",
    "\n",
    "# Get all the images from the PowerPoint files\n",
    "images = []\n",
    "for f in filenames:\n",
    "    images.extend(extract_images(f))"
   ]
  },
  {
   "cell_type": "code",
   "execution_count": 7,
   "id": "53ab2b2f",
   "metadata": {},
   "outputs": [],
   "source": [
    "# Create the new PowerPoint files\n",
    "for i in range(number):\n",
    "    filename = output_dir / f\"powerpoint_{i}.pptx\"\n",
    "    new_prs: Presentation = Presentation()\n",
    "    # Get a random sample of images\n",
    "    chosen_images = random.choices(images, k=images_per_powerpoint)\n",
    "\n",
    "    slide_height = new_prs.slide_height\n",
    "\n",
    "    # Add the images to the new PowerPoint file\n",
    "    for image in chosen_images:\n",
    "        # Add a new slide\n",
    "        new_slide = new_prs.slides.add_slide(new_prs.slide_layouts[6])\n",
    "        # Add the image to the slide\n",
    "        new_slide.shapes.add_picture(str(image), 0, 0, height=slide_height)\n",
    "\n",
    "    # Save the new PowerPoint file\n",
    "    new_prs.save(filename)\n",
    "\n",
    "# Delete the temporary folder and its contents\n",
    "for f in temp_folder.glob(\"*\"):\n",
    "    f.unlink()\n",
    "temp_folder.rmdir()"
   ]
  },
  {
   "cell_type": "code",
   "execution_count": null,
   "id": "12988c49",
   "metadata": {},
   "outputs": [],
   "source": []
  }
 ],
 "metadata": {
  "kernelspec": {
   "display_name": "Python 3 (ipykernel)",
   "language": "python",
   "name": "python3"
  },
  "language_info": {
   "codemirror_mode": {
    "name": "ipython",
    "version": 3
   },
   "file_extension": ".py",
   "mimetype": "text/x-python",
   "name": "python",
   "nbconvert_exporter": "python",
   "pygments_lexer": "ipython3",
   "version": "3.9.13"
  }
 },
 "nbformat": 4,
 "nbformat_minor": 5
}
